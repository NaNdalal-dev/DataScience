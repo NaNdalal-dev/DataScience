{
 "cells": [
  {
   "cell_type": "code",
   "execution_count": 1,
   "metadata": {},
   "outputs": [],
   "source": [
    "import pandas as pd\n",
    "from matplotlib import pyplot as py"
   ]
  },
  {
   "cell_type": "code",
   "execution_count": 2,
   "metadata": {},
   "outputs": [
    {
     "data": {
      "text/html": [
       "<div>\n",
       "<style scoped>\n",
       "    .dataframe tbody tr th:only-of-type {\n",
       "        vertical-align: middle;\n",
       "    }\n",
       "\n",
       "    .dataframe tbody tr th {\n",
       "        vertical-align: top;\n",
       "    }\n",
       "\n",
       "    .dataframe thead th {\n",
       "        text-align: right;\n",
       "    }\n",
       "</style>\n",
       "<table border=\"1\" class=\"dataframe\">\n",
       "  <thead>\n",
       "    <tr style=\"text-align: right;\">\n",
       "      <th></th>\n",
       "      <th>Responder_id</th>\n",
       "      <th>LanguagesWorkedWith</th>\n",
       "    </tr>\n",
       "  </thead>\n",
       "  <tbody>\n",
       "    <tr>\n",
       "      <td>0</td>\n",
       "      <td>1</td>\n",
       "      <td>HTML/CSS;Java;JavaScript;Python</td>\n",
       "    </tr>\n",
       "    <tr>\n",
       "      <td>1</td>\n",
       "      <td>2</td>\n",
       "      <td>C++;HTML/CSS;Python</td>\n",
       "    </tr>\n",
       "    <tr>\n",
       "      <td>2</td>\n",
       "      <td>3</td>\n",
       "      <td>HTML/CSS</td>\n",
       "    </tr>\n",
       "    <tr>\n",
       "      <td>3</td>\n",
       "      <td>4</td>\n",
       "      <td>C;C++;C#;Python;SQL</td>\n",
       "    </tr>\n",
       "    <tr>\n",
       "      <td>4</td>\n",
       "      <td>5</td>\n",
       "      <td>C++;HTML/CSS;Java;JavaScript;Python;SQL;VBA</td>\n",
       "    </tr>\n",
       "  </tbody>\n",
       "</table>\n",
       "</div>"
      ],
      "text/plain": [
       "   Responder_id                          LanguagesWorkedWith\n",
       "0             1              HTML/CSS;Java;JavaScript;Python\n",
       "1             2                          C++;HTML/CSS;Python\n",
       "2             3                                     HTML/CSS\n",
       "3             4                          C;C++;C#;Python;SQL\n",
       "4             5  C++;HTML/CSS;Java;JavaScript;Python;SQL;VBA"
      ]
     },
     "execution_count": 2,
     "metadata": {},
     "output_type": "execute_result"
    }
   ],
   "source": [
    "df=pd.read_csv('popular_lang.csv')\n",
    "df.head()"
   ]
  },
  {
   "cell_type": "code",
   "execution_count": 36,
   "metadata": {},
   "outputs": [],
   "source": [
    "from collections import Counter\n",
    "id_=df['Responder_id']\n",
    "lang=df['LanguagesWorkedWith']\n",
    "lang_counter=Counter()\n",
    "for langs in lang:\n",
    "    lang_counter.update(langs.split(';'))"
   ]
  },
  {
   "cell_type": "code",
   "execution_count": 39,
   "metadata": {},
   "outputs": [
    {
     "name": "stdout",
     "output_type": "stream",
     "text": [
      "['Assembly', 'Go', 'Ruby', 'Other(s):', 'C', 'TypeScript', 'C++', 'PHP', 'C#', 'Bash/Shell/PowerShell', 'Java', 'Python', 'SQL', 'HTML/CSS', 'JavaScript']\n",
      "[5833, 7201, 7331, 7920, 18017, 18523, 20524, 23030, 27097, 31991, 35917, 36443, 47544, 55466, 59219]\n"
     ]
    }
   ],
   "source": [
    "languages=[]\n",
    "popularity=[]\n",
    "for items in lang_counter.most_common(len(lang_counter)-13):\n",
    "    languages.append(items[0])\n",
    "    popularity.append(items[1])\n",
    "languages.reverse()\n",
    "popularity.reverse()\n",
    "print(languages)\n",
    "print(popularity)\n"
   ]
  },
  {
   "cell_type": "code",
   "execution_count": 40,
   "metadata": {},
   "outputs": [
    {
     "data": {
      "image/png": "[encoded data removed]",
      "text/plain": [
       "<Figure size 432x288 with 1 Axes>"
      ]
     },
     "metadata": {},
     "output_type": "display_data"
    }
   ],
   "source": [
    "py.style.use('fivethirtyeight')\n",
    "py.barh(languages,popularity)\n",
    "py.title('Top 15 popular languages')\n",
    "py.xlabel('popularity')\n",
    "py.tight_layout()\n",
    "py.show()"
   ]
  }
 ],
 "metadata": {
  "kernelspec": {
   "display_name": "Python 3",
   "language": "python",
   "name": "python3"
  },
  "language_info": {
   "codemirror_mode": {
    "name": "ipython",
    "version": 3
   },
   "file_extension": ".py",
   "mimetype": "text/x-python",
   "name": "python",
   "nbconvert_exporter": "python",
   "pygments_lexer": "ipython3",
   "version": "3.7.4"
  }
 },
 "nbformat": 4,
 "nbformat_minor": 2
}
