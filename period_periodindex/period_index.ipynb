{
 "cells": [
  {
   "cell_type": "code",
   "execution_count": 18,
   "metadata": {},
   "outputs": [
    {
     "data": {
      "text/plain": [
       "PeriodIndex(['2017-01-01', '2017-01-02', '2017-01-03', '2017-01-04',\n",
       "             '2017-01-05', '2017-01-06', '2017-01-07', '2017-01-08',\n",
       "             '2017-01-09', '2017-01-10', '2017-01-11', '2017-01-12',\n",
       "             '2017-01-13', '2017-01-14', '2017-01-15', '2017-01-16',\n",
       "             '2017-01-17', '2017-01-18', '2017-01-19', '2017-01-20',\n",
       "             '2017-01-21', '2017-01-22', '2017-01-23', '2017-01-24',\n",
       "             '2017-01-25', '2017-01-26', '2017-01-27', '2017-01-28',\n",
       "             '2017-01-29', '2017-01-30', '2017-01-31'],\n",
       "            dtype='period[D]', freq='D')"
      ]
     },
     "execution_count": 18,
     "metadata": {},
     "output_type": "execute_result"
    }
   ],
   "source": [
    "#period_range() used to arange the periods from start to end with the help of frequencies\n",
    "#by default freq is \"D\" which is dates\n",
    "import pandas as pd\n",
    "pr_d=pd.period_range('2017-01-01','2017-01-31')\n",
    "pr_d"
   ]
  },
  {
   "cell_type": "code",
   "execution_count": 19,
   "metadata": {},
   "outputs": [
    {
     "data": {
      "text/plain": [
       "PeriodIndex(['2017-01', '2017-02', '2017-03', '2017-04', '2017-05', '2017-06',\n",
       "             '2017-07', '2017-08', '2017-09', '2017-10', '2017-11', '2017-12'],\n",
       "            dtype='period[M]', freq='M')"
      ]
     },
     "execution_count": 19,
     "metadata": {},
     "output_type": "execute_result"
    }
   ],
   "source": [
    "#monthly periods\n",
    "pr_m=pd.period_range('2017-01-01','2017-12-31',freq='m')\n",
    "pr_m"
   ]
  },
  {
   "cell_type": "code",
   "execution_count": 21,
   "metadata": {},
   "outputs": [
    {
     "data": {
      "text/plain": [
       "PeriodIndex(['2017', '2018', '2019', '2020', '2021', '2022', '2023', '2024',\n",
       "             '2025', '2026', '2027', '2028', '2029', '2030'],\n",
       "            dtype='period[A-DEC]', freq='A-DEC')"
      ]
     },
     "execution_count": 21,
     "metadata": {},
     "output_type": "execute_result"
    }
   ],
   "source": [
    "#yearly periods\n",
    "pr_y=pd.period_range('2017','2030',freq='y')\n",
    "pr_y"
   ]
  },
  {
   "cell_type": "code",
   "execution_count": 24,
   "metadata": {},
   "outputs": [
    {
     "data": {
      "text/plain": [
       "PeriodIndex(['2017-01-01 00:00', '2017-01-01 01:00', '2017-01-01 02:00'], dtype='period[H]', freq='H')"
      ]
     },
     "execution_count": 24,
     "metadata": {},
     "output_type": "execute_result"
    }
   ],
   "source": [
    "#hourly periods\n",
    "pr_h=pd.period_range('2017-01-01 00:00:00','2017-01-01 02:00:00',freq='h')\n",
    "pr_h"
   ]
  },
  {
   "cell_type": "code",
   "execution_count": 25,
   "metadata": {},
   "outputs": [
    {
     "data": {
      "text/plain": [
       "PeriodIndex(['2017-01-01 00:00:00', '2017-01-01 00:00:01',\n",
       "             '2017-01-01 00:00:02', '2017-01-01 00:00:03',\n",
       "             '2017-01-01 00:00:04', '2017-01-01 00:00:05',\n",
       "             '2017-01-01 00:00:06', '2017-01-01 00:00:07',\n",
       "             '2017-01-01 00:00:08', '2017-01-01 00:00:09',\n",
       "             ...\n",
       "             '2017-01-01 01:59:51', '2017-01-01 01:59:52',\n",
       "             '2017-01-01 01:59:53', '2017-01-01 01:59:54',\n",
       "             '2017-01-01 01:59:55', '2017-01-01 01:59:56',\n",
       "             '2017-01-01 01:59:57', '2017-01-01 01:59:58',\n",
       "             '2017-01-01 01:59:59', '2017-01-01 02:00:00'],\n",
       "            dtype='period[S]', length=7201, freq='S')"
      ]
     },
     "execution_count": 25,
     "metadata": {},
     "output_type": "execute_result"
    }
   ],
   "source": [
    "#second periods\n",
    "pr_h=pd.period_range('2017-01-01 00:00:00','2017-01-01 02:00:00',freq='s')\n",
    "pr_h"
   ]
  },
  {
   "cell_type": "code",
   "execution_count": 29,
   "metadata": {},
   "outputs": [
    {
     "data": {
      "text/plain": [
       "PeriodIndex(['2017Q1', '2017Q2', '2017Q3', '2017Q4', '2018Q1'], dtype='period[Q-DEC]', freq='Q-DEC')"
      ]
     },
     "execution_count": 29,
     "metadata": {},
     "output_type": "execute_result"
    }
   ],
   "source": [
    "#quaterly periods\n",
    "pr_q=pd.period_range('2017','2018',freq='q')\n",
    "pr_q"
   ]
  },
  {
   "cell_type": "code",
   "execution_count": 39,
   "metadata": {},
   "outputs": [
    {
     "name": "stdout",
     "output_type": "stream",
     "text": [
      "PeriodIndex(['2017Q4', '2018Q1', '2018Q2', '2018Q3', '2018Q4'], dtype='period[Q-JAN]', freq='Q-JAN')\n",
      "2016-11-01 00:00:00\n",
      "2017-01-31 23:59:59.999999999\n"
     ]
    }
   ],
   "source": [
    "#user defined quaterly periods\n",
    "pr_q=pd.period_range('2017','2018',freq='q-jan')\n",
    "print(pr_q)\n",
    "print(pr_q[0].start_time)\n",
    "print(pr_q[0].end_time)"
   ]
  },
  {
   "cell_type": "code",
   "execution_count": 43,
   "metadata": {},
   "outputs": [
    {
     "name": "stdout",
     "output_type": "stream",
     "text": [
      "5\n"
     ]
    },
    {
     "data": {
      "text/plain": [
       "2017Q4    0.491235\n",
       "2018Q1    0.683623\n",
       "2018Q2    1.128202\n",
       "2018Q3   -0.116648\n",
       "2018Q4    1.210627\n",
       "Freq: Q-JAN, dtype: float64"
      ]
     },
     "execution_count": 43,
     "metadata": {},
     "output_type": "execute_result"
    }
   ],
   "source": [
    "import numpy as np\n",
    "print(len(pr_q))\n",
    "ps=pd.Series(np.random.randn(len(pr_q)),pr_q)\n",
    "ps"
   ]
  },
  {
   "cell_type": "code",
   "execution_count": 51,
   "metadata": {},
   "outputs": [
    {
     "name": "stdout",
     "output_type": "stream",
     "text": [
      "PeriodIndex(['2017Q4', '2018Q1', '2018Q2', '2018Q3', '2018Q4'], dtype='period[Q-JAN]', freq='Q-JAN')\n",
      "2017Q4    0.491235\n",
      "2018Q1    0.683623\n",
      "2018Q2    1.128202\n",
      "2018Q3   -0.116648\n",
      "2018Q4    1.210627\n",
      "Freq: Q-JAN, dtype: float64\n",
      "2017Q4    0.491235\n",
      "2018Q1    0.683623\n",
      "2018Q2    1.128202\n",
      "2018Q3   -0.116648\n",
      "2018Q4    1.210627\n",
      "Freq: Q-JAN, dtype: float64\n"
     ]
    }
   ],
   "source": [
    "print(ps.index)\n",
    "print(ps['2017'])\n",
    "print(ps['2017':'2018'])"
   ]
  },
  {
   "cell_type": "code",
   "execution_count": 34,
   "metadata": {},
   "outputs": [
    {
     "data": {
      "text/plain": [
       "PeriodIndex(['2017-01-01 00:00', '2017-01-01 01:00', '2017-01-01 02:00',\n",
       "             '2017-01-01 03:00', '2017-01-01 04:00', '2017-01-01 05:00',\n",
       "             '2017-01-01 06:00', '2017-01-01 07:00', '2017-01-01 08:00',\n",
       "             '2017-01-01 09:00'],\n",
       "            dtype='period[H]', freq='H')"
      ]
     },
     "execution_count": 34,
     "metadata": {},
     "output_type": "execute_result"
    }
   ],
   "source": [
    "#periods parameter: It helps to have the number of user defined periods of the given period_range\n",
    "#let's demonstrate\n",
    "pr_p=pd.period_range('2017-01-01',periods=10,freq='h')\n",
    "pr_p"
   ]
  },
  {
   "cell_type": "code",
   "execution_count": null,
   "metadata": {},
   "outputs": [],
   "source": []
  }
 ],
 "metadata": {
  "kernelspec": {
   "display_name": "Python 3",
   "language": "python",
   "name": "python3"
  },
  "language_info": {
   "codemirror_mode": {
    "name": "ipython",
    "version": 3
   },
   "file_extension": ".py",
   "mimetype": "text/x-python",
   "name": "python",
   "nbconvert_exporter": "python",
   "pygments_lexer": "ipython3",
   "version": "3.7.4"
  }
 },
 "nbformat": 4,
 "nbformat_minor": 2
}
