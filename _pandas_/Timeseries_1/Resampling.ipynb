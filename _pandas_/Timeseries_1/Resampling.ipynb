{
 "cells": [
  {
   "cell_type": "code",
   "execution_count": 22,
   "metadata": {},
   "outputs": [
    {
     "name": "stdout",
     "output_type": "stream",
     "text": [
      "Annual stock of Apple from 2016-jul to 2017-jul\n"
     ]
    },
    {
     "data": {
      "text/html": [
       "<div>\n",
       "<style scoped>\n",
       "    .dataframe tbody tr th:only-of-type {\n",
       "        vertical-align: middle;\n",
       "    }\n",
       "\n",
       "    .dataframe tbody tr th {\n",
       "        vertical-align: top;\n",
       "    }\n",
       "\n",
       "    .dataframe thead th {\n",
       "        text-align: right;\n",
       "    }\n",
       "</style>\n",
       "<table border=\"1\" class=\"dataframe\">\n",
       "  <thead>\n",
       "    <tr style=\"text-align: right;\">\n",
       "      <th></th>\n",
       "      <th>Open</th>\n",
       "      <th>High</th>\n",
       "      <th>Low</th>\n",
       "      <th>Close</th>\n",
       "      <th>Volume</th>\n",
       "    </tr>\n",
       "    <tr>\n",
       "      <th>Date</th>\n",
       "      <th></th>\n",
       "      <th></th>\n",
       "      <th></th>\n",
       "      <th></th>\n",
       "      <th></th>\n",
       "    </tr>\n",
       "  </thead>\n",
       "  <tbody>\n",
       "    <tr>\n",
       "      <td>2017-07-07</td>\n",
       "      <td>142.90</td>\n",
       "      <td>144.75</td>\n",
       "      <td>142.90</td>\n",
       "      <td>144.18</td>\n",
       "      <td>19201712</td>\n",
       "    </tr>\n",
       "    <tr>\n",
       "      <td>2017-07-06</td>\n",
       "      <td>143.02</td>\n",
       "      <td>143.50</td>\n",
       "      <td>142.41</td>\n",
       "      <td>142.73</td>\n",
       "      <td>24128782</td>\n",
       "    </tr>\n",
       "    <tr>\n",
       "      <td>2017-07-05</td>\n",
       "      <td>143.69</td>\n",
       "      <td>144.79</td>\n",
       "      <td>142.72</td>\n",
       "      <td>144.09</td>\n",
       "      <td>21569557</td>\n",
       "    </tr>\n",
       "    <tr>\n",
       "      <td>2017-07-03</td>\n",
       "      <td>144.88</td>\n",
       "      <td>145.30</td>\n",
       "      <td>143.10</td>\n",
       "      <td>143.50</td>\n",
       "      <td>14277848</td>\n",
       "    </tr>\n",
       "    <tr>\n",
       "      <td>2017-06-30</td>\n",
       "      <td>144.45</td>\n",
       "      <td>144.96</td>\n",
       "      <td>143.78</td>\n",
       "      <td>144.02</td>\n",
       "      <td>23024107</td>\n",
       "    </tr>\n",
       "    <tr>\n",
       "      <td>...</td>\n",
       "      <td>...</td>\n",
       "      <td>...</td>\n",
       "      <td>...</td>\n",
       "      <td>...</td>\n",
       "      <td>...</td>\n",
       "    </tr>\n",
       "    <tr>\n",
       "      <td>2016-07-15</td>\n",
       "      <td>98.92</td>\n",
       "      <td>99.30</td>\n",
       "      <td>98.50</td>\n",
       "      <td>98.78</td>\n",
       "      <td>30136990</td>\n",
       "    </tr>\n",
       "    <tr>\n",
       "      <td>2016-07-14</td>\n",
       "      <td>97.39</td>\n",
       "      <td>98.99</td>\n",
       "      <td>97.32</td>\n",
       "      <td>98.79</td>\n",
       "      <td>38918997</td>\n",
       "    </tr>\n",
       "    <tr>\n",
       "      <td>2016-07-13</td>\n",
       "      <td>97.41</td>\n",
       "      <td>97.67</td>\n",
       "      <td>96.84</td>\n",
       "      <td>96.87</td>\n",
       "      <td>25892171</td>\n",
       "    </tr>\n",
       "    <tr>\n",
       "      <td>2016-07-12</td>\n",
       "      <td>97.17</td>\n",
       "      <td>97.70</td>\n",
       "      <td>97.12</td>\n",
       "      <td>97.42</td>\n",
       "      <td>24167463</td>\n",
       "    </tr>\n",
       "    <tr>\n",
       "      <td>2016-07-11</td>\n",
       "      <td>96.75</td>\n",
       "      <td>97.65</td>\n",
       "      <td>96.73</td>\n",
       "      <td>96.98</td>\n",
       "      <td>23794945</td>\n",
       "    </tr>\n",
       "  </tbody>\n",
       "</table>\n",
       "<p>251 rows × 5 columns</p>\n",
       "</div>"
      ],
      "text/plain": [
       "              Open    High     Low   Close    Volume\n",
       "Date                                                \n",
       "2017-07-07  142.90  144.75  142.90  144.18  19201712\n",
       "2017-07-06  143.02  143.50  142.41  142.73  24128782\n",
       "2017-07-05  143.69  144.79  142.72  144.09  21569557\n",
       "2017-07-03  144.88  145.30  143.10  143.50  14277848\n",
       "2017-06-30  144.45  144.96  143.78  144.02  23024107\n",
       "...            ...     ...     ...     ...       ...\n",
       "2016-07-15   98.92   99.30   98.50   98.78  30136990\n",
       "2016-07-14   97.39   98.99   97.32   98.79  38918997\n",
       "2016-07-13   97.41   97.67   96.84   96.87  25892171\n",
       "2016-07-12   97.17   97.70   97.12   97.42  24167463\n",
       "2016-07-11   96.75   97.65   96.73   96.98  23794945\n",
       "\n",
       "[251 rows x 5 columns]"
      ]
     },
     "execution_count": 22,
     "metadata": {},
     "output_type": "execute_result"
    }
   ],
   "source": [
    "#Resampling:Validating models by using random subsets \n",
    "\n",
    "import pandas as pd\n",
    "from matplotlib import pyplot as plt\n",
    "print('Annual stock of Apple from 2016-jul to 2017-jul')\n",
    "df1=pd.read_csv('aapl.csv',parse_dates=['Date'],index_col='Date')\n",
    "df1\n"
   ]
  },
  {
   "cell_type": "code",
   "execution_count": 35,
   "metadata": {},
   "outputs": [
    {
     "name": "stdout",
     "output_type": "stream",
     "text": [
      "Minimum stock of each month :\n",
      "Date\n",
      "2016-07-31     96.67\n",
      "2016-08-31    104.48\n",
      "2016-09-30    103.13\n",
      "2016-10-31    112.52\n",
      "2016-11-30    105.71\n",
      "2016-12-31    109.11\n",
      "2017-01-31    116.02\n",
      "2017-02-28    128.53\n",
      "2017-03-31    138.68\n",
      "2017-04-30    140.68\n",
      "2017-05-31    146.53\n",
      "2017-06-30    142.27\n",
      "2017-07-31    142.73\n",
      "Freq: M, Name: Close, dtype: float64\n",
      "Minimum stock of each month :\n",
      "AxesSubplot(0.125,0.125;0.775x0.755)\n"
     ]
    },
    {
     "data": {
      "image/png": "[encoded data removed]",
      "text/plain": [
       "<Figure size 432x288 with 1 Axes>"
      ]
     },
     "metadata": {
      "needs_background": "light"
     },
     "output_type": "display_data"
    }
   ],
   "source": [
    "#lets resample the minimum stock of each month\n",
    "print('Minimum stock of each month :')\n",
    "print(df1.Close.resample('M').min())\n",
    "print('Minimum stock of each month :')\n",
    "print(df1.Close.resample('M').min().plot())"
   ]
  },
  {
   "cell_type": "code",
   "execution_count": 26,
   "metadata": {
    "scrolled": false
   },
   "outputs": [
    {
     "name": "stdout",
     "output_type": "stream",
     "text": [
      "Maximum stock of each month :\n",
      "Date\n",
      "2016-07-31    104.34\n",
      "2016-08-31    109.48\n",
      "2016-09-30    115.57\n",
      "2016-10-31    118.25\n",
      "2016-11-30    111.80\n",
      "2016-12-31    117.26\n",
      "2017-01-31    121.95\n",
      "2017-02-28    137.11\n",
      "2017-03-31    144.12\n",
      "2017-04-30    144.77\n",
      "2017-05-31    156.10\n",
      "2017-06-30    155.45\n",
      "2017-07-31    144.18\n",
      "Freq: M, Name: Close, dtype: float64\n",
      "Maximum stock of each month :\n",
      "AxesSubplot(0.125,0.125;0.775x0.755)\n"
     ]
    },
    {
     "data": {
      "image/png": "[encoded data removed]",
      "text/plain": [
       "<Figure size 432x288 with 1 Axes>"
      ]
     },
     "metadata": {
      "needs_background": "light"
     },
     "output_type": "display_data"
    }
   ],
   "source": [
    "#lets resample the maximum stock of each month\n",
    "print('Maximum stock of each month :')\n",
    "print(df1.Close.resample('M').max())#'M' refers to Monthly data\n",
    "print('Maximum stock of each month :')\n",
    "print(df1.Close.resample('M').max().plot())"
   ]
  },
  {
   "cell_type": "code",
   "execution_count": 34,
   "metadata": {},
   "outputs": [
    {
     "name": "stdout",
     "output_type": "stream",
     "text": [
      "Average stock of each month :\n",
      "Date\n",
      "2016-07-31     99.473333\n",
      "2016-08-31    107.665217\n",
      "2016-09-30    110.857143\n",
      "2016-10-31    115.707143\n",
      "2016-11-30    110.154286\n",
      "2016-12-31    114.335714\n",
      "2017-01-31    119.570000\n",
      "2017-02-28    133.713684\n",
      "2017-03-31    140.617826\n",
      "2017-04-30    142.886842\n",
      "2017-05-31    152.227727\n",
      "2017-06-30    147.831364\n",
      "2017-07-31    143.625000\n",
      "Freq: M, Name: Close, dtype: float64\n",
      "\n",
      "Average stock of each month :\n",
      "AxesSubplot(0.125,0.125;0.775x0.755)\n"
     ]
    },
    {
     "data": {
      "image/png": "[encoded data removed]",
      "text/plain": [
       "<Figure size 432x288 with 1 Axes>"
      ]
     },
     "metadata": {
      "needs_background": "light"
     },
     "output_type": "display_data"
    }
   ],
   "source": [
    "#lets resample the average stock of each month\n",
    "print('Average stock of each month :')\n",
    "print(df1.Close.resample('M').mean())#'M' refers to Monthly data\n",
    "print('\\nAverage stock of each month :')\n",
    "print(df1.Close.resample('M').mean().plot(kind='bar'))"
   ]
  },
  {
   "cell_type": "code",
   "execution_count": 40,
   "metadata": {},
   "outputs": [
    {
     "name": "stdout",
     "output_type": "stream",
     "text": [
      " Apple stock close prices :\n",
      "Date\n",
      "2017-01-31    121.35\n",
      "2017-01-30    121.63\n",
      "2017-01-27    121.95\n",
      "2017-01-26    121.94\n",
      "2017-01-25    121.88\n",
      "2017-01-24    119.97\n",
      "2017-01-23    120.08\n",
      "2017-01-20    120.00\n",
      "2017-01-19    119.78\n",
      "2017-01-18    119.99\n",
      "2017-01-17    120.00\n",
      "2017-01-13    119.04\n",
      "2017-01-12    119.25\n",
      "2017-01-11    119.75\n",
      "2017-01-10    119.11\n",
      "2017-01-09    118.99\n",
      "2017-01-06    117.91\n",
      "2017-01-05    116.61\n",
      "2017-01-04    116.02\n",
      "2017-01-03    116.15\n",
      "Name: Close, dtype: float64\n",
      "AxesSubplot(0.125,0.2;0.775x0.68)\n"
     ]
    },
    {
     "data": {
      "image/png": "[encoded data removed]",
      "text/plain": [
       "<Figure size 432x288 with 1 Axes>"
      ]
     },
     "metadata": {
      "needs_background": "light"
     },
     "output_type": "display_data"
    }
   ],
   "source": [
    "#overall apple stock price(Close)\n",
    "print(' Apple stock close prices :')\n",
    "print(df1['2017-01'].Close)#'M' refers to Monthly data\n",
    "print(df1['2017-01'].Close.plot())"
   ]
  }
 ],
 "metadata": {
  "kernelspec": {
   "display_name": "Python 3",
   "language": "python",
   "name": "python3"
  },
  "language_info": {
   "codemirror_mode": {
    "name": "ipython",
    "version": 3
   },
   "file_extension": ".py",
   "mimetype": "text/x-python",
   "name": "python",
   "nbconvert_exporter": "python",
   "pygments_lexer": "ipython3",
   "version": "3.7.4"
  }
 },
 "nbformat": 4,
 "nbformat_minor": 2
}
