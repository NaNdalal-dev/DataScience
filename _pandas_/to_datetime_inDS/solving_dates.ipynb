{
 "cells": [
  {
   "cell_type": "code",
   "execution_count": 6,
   "metadata": {},
   "outputs": [
    {
     "name": "stdout",
     "output_type": "stream",
     "text": [
      "DatetimeIndex(['2017-01-05', '2017-01-05', '2017-01-05', '2017-01-05'], dtype='datetime64[ns]', freq=None)\n"
     ]
    }
   ],
   "source": [
    "#sometimes in a data we might come across some unusual dates such as jan 05 2017,2017.01.05 which are aranged in\n",
    "#improper order so to solve this invalid dates and times we use to_datetime() function \n",
    "#lets look at the following example\n",
    "import pandas as pd\n",
    "i_dates=['2017-01-05','01/05/2017','2017/01/05','20170105']#improper dates\n",
    "df=pd.to_datetime(i_dates)\n",
    "print(df)"
   ]
  },
  {
   "cell_type": "code",
   "execution_count": 7,
   "metadata": {},
   "outputs": [
    {
     "name": "stdout",
     "output_type": "stream",
     "text": [
      "DatetimeIndex(['2017-01-05 22:00:08', '2017-01-05 11:39:34',\n",
      "               '2017-01-05 00:00:00', '2017-01-05 00:00:00'],\n",
      "              dtype='datetime64[ns]', freq=None)\n"
     ]
    }
   ],
   "source": [
    "#to_datetime() also solves the time problems\n",
    "times=['2017-01-05 10:00:08 PM','01/05/2017 11:39:34 AM','2017/01/05','20170105']#improper dates\n",
    "df=pd.to_datetime(times)\n",
    "print(df)"
   ]
  },
  {
   "cell_type": "code",
   "execution_count": 26,
   "metadata": {},
   "outputs": [
    {
     "name": "stdout",
     "output_type": "stream",
     "text": [
      "05-01-2017 (in Europe) : 2017-05-01 00:00:00\n",
      "05-01-2017 (in US): 2017-01-05 00:00:00\n"
     ]
    }
   ],
   "source": [
    "#In US  the date format is mm/dd/yyyy\n",
    "#where as in Europe the dateformat is dd/mm/yyyy\n",
    "\n",
    "\n",
    "print('05-01-2017 (in Europe) :',pd.to_datetime('05-01-2017'))\n",
    "#the date of above code is 2017-may-01 not 2017-05-jan\n",
    "\n",
    "#so to rectify this problem we use datefirst parameter =True\n",
    "print('05-01-2017 (in US):',pd.to_datetime('05-01-2017',dayfirst=True))"
   ]
  },
  {
   "cell_type": "code",
   "execution_count": 38,
   "metadata": {
    "scrolled": true
   },
   "outputs": [
    {
     "name": "stdout",
     "output_type": "stream",
     "text": [
      "2017-01-05 00:00:00\n",
      "2017-01-05 00:00:00\n"
     ]
    }
   ],
   "source": [
    "#You can customize your own date separators using format\n",
    "print(pd.to_datetime('5$1$2017',format='%d$%m$%Y'))\n",
    "print(pd.to_datetime('2017#01#05', format='%Y#%m#%d'))"
   ]
  },
  {
   "cell_type": "code",
   "execution_count": 40,
   "metadata": {},
   "outputs": [
    {
     "name": "stdout",
     "output_type": "stream",
     "text": [
      "Index(['2017-01-05', 'Jan 6, 2017', 'abc'], dtype='object')\n",
      "DatetimeIndex(['2017-01-05', '2017-01-06', 'NaT'], dtype='datetime64[ns]', freq=None)\n"
     ]
    }
   ],
   "source": [
    "#we can handle the invalid dates using errors='ignore' parameter\n",
    "print(pd.to_datetime(['2017-01-05', 'Jan 6, 2017', 'abc'], errors='ignore'))\n",
    "\n",
    "#incase if u get  the info on invalid dates use errors='coerce'\n",
    "print(pd.to_datetime(['2017-01-05', 'Jan 6, 2017', 'abc'], errors='coerce'))"
   ]
  },
  {
   "cell_type": "code",
   "execution_count": 57,
   "metadata": {},
   "outputs": [
    {
     "data": {
      "text/plain": [
       "Timestamp('1970-01-01 00:00:01.573752057')"
      ]
     },
     "execution_count": 57,
     "metadata": {},
     "output_type": "execute_result"
    }
   ],
   "source": [
    "'''Epoch\n",
    "\n",
    "Epoch or Unix time means number of seconds that have passed since Jan 1, 1970 00:00:00 UTC time'''\n",
    "epoch=1573752057\n",
    "pd.to_datetime(epoch)"
   ]
  },
  {
   "cell_type": "code",
   "execution_count": 59,
   "metadata": {},
   "outputs": [
    {
     "ename": "AttributeError",
     "evalue": "'Timestamp' object has no attribute 'view'",
     "output_type": "error",
     "traceback": [
      "\u001b[0;31m---------------------------------------------------------------------------\u001b[0m",
      "\u001b[0;31mAttributeError\u001b[0m                            Traceback (most recent call last)",
      "\u001b[0;32m<ipython-input-59-78a0bed6872d>\u001b[0m in \u001b[0;36m<module>\u001b[0;34m\u001b[0m\n\u001b[0;32m----> 1\u001b[0;31m \u001b[0mpd\u001b[0m\u001b[0;34m.\u001b[0m\u001b[0mto_datetime\u001b[0m\u001b[0;34m(\u001b[0m\u001b[0mepoch\u001b[0m\u001b[0;34m,\u001b[0m\u001b[0munit\u001b[0m\u001b[0;34m=\u001b[0m\u001b[0;34m's'\u001b[0m\u001b[0;34m)\u001b[0m\u001b[0;34m.\u001b[0m\u001b[0mview\u001b[0m\u001b[0;34m(\u001b[0m\u001b[0;34m)\u001b[0m\u001b[0;34m\u001b[0m\u001b[0;34m\u001b[0m\u001b[0m\n\u001b[0m",
      "\u001b[0;31mAttributeError\u001b[0m: 'Timestamp' object has no attribute 'view'"
     ]
    }
   ],
   "source": [
    "pd.to_datetime(epoch,unit='s')"
   ]
  },
  {
   "cell_type": "code",
   "execution_count": null,
   "metadata": {},
   "outputs": [],
   "source": []
  }
 ],
 "metadata": {
  "kernelspec": {
   "display_name": "Python 3",
   "language": "python",
   "name": "python3"
  },
  "language_info": {
   "codemirror_mode": {
    "name": "ipython",
    "version": 3
   },
   "file_extension": ".py",
   "mimetype": "text/x-python",
   "name": "python",
   "nbconvert_exporter": "python",
   "pygments_lexer": "ipython3",
   "version": "3.7.4"
  }
 },
 "nbformat": 4,
 "nbformat_minor": 2
}
