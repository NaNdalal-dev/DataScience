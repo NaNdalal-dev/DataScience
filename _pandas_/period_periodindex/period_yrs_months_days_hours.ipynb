{
 "cells": [
  {
   "cell_type": "code",
   "execution_count": 6,
   "metadata": {},
   "outputs": [],
   "source": [
    "# class pandas.Period\n",
    "# Represents a period of time\n",
    "\n",
    "import pandas as pd\n",
    "p1=pd.Period()"
   ]
  },
  {
   "cell_type": "code",
   "execution_count": 63,
   "metadata": {
    "scrolled": false
   },
   "outputs": [],
   "source": [
    "# for more info  use dir(p1)\n",
    "#dir(p1)"
   ]
  },
  {
   "cell_type": "code",
   "execution_count": 104,
   "metadata": {},
   "outputs": [
    {
     "name": "stdout",
     "output_type": "stream",
     "text": [
      "Initial time :  2016-01-01\n",
      "Starting time : 2016-01-01 00:00:00\n",
      "Ending time : 2016-01-01 23:59:59.999999999\n"
     ]
    }
   ],
   "source": [
    "p2=pd.Period('2016-01-01')\n",
    "print('Initial time : ',p2)\n",
    "print('Starting time :',p2.start_time)\n",
    "print('Ending time :',p2.end_time)\n"
   ]
  },
  {
   "cell_type": "code",
   "execution_count": 58,
   "metadata": {},
   "outputs": [
    {
     "name": "stdout",
     "output_type": "stream",
     "text": [
      "False\n",
      "True\n"
     ]
    }
   ],
   "source": [
    "#we use is_leap_year attribute to check the particular year is leap year or not \n",
    "print(pd.Period('2017').is_leap_year)\n",
    "print(pd.Period('2016').is_leap_year)"
   ]
  },
  {
   "cell_type": "code",
   "execution_count": 79,
   "metadata": {},
   "outputs": [
    {
     "name": "stdout",
     "output_type": "stream",
     "text": [
      "printing months :\n",
      "2017-01\n",
      "2017-02\n",
      "2017-03\n",
      "2017-04\n",
      "2017-05\n",
      "2017-06\n",
      "2017-07\n",
      "2017-08\n",
      "2017-09\n",
      "2017-10\n",
      "2017-11\n",
      "2017-12\n"
     ]
    }
   ],
   "source": [
    "#monthly freqeuncy\n",
    "pmonth=pd.Period('2017-01',freq='M')\n",
    "print('printing months :')\n",
    "for i in range(12):\n",
    "    print(pmonth)\n",
    "    pmonth+=1"
   ]
  },
  {
   "cell_type": "code",
   "execution_count": 5,
   "metadata": {},
   "outputs": [
    {
     "name": "stdout",
     "output_type": "stream",
     "text": [
      "Printing year freqeuncy \n",
      "2017-01-01 00:00:00\n",
      "2017-12-31 23:59:59.999999999\n"
     ]
    }
   ],
   "source": [
    "#Yearly frequency\n",
    "print('Printing year freqeuncy ')\n",
    "pyear=pd.Period('2017-01',freq='Y')\n",
    "print(pyear.start_time)\n",
    "print(pyear.end_time)\n",
    "\n"
   ]
  },
  {
   "cell_type": "code",
   "execution_count": 171,
   "metadata": {
    "scrolled": false
   },
   "outputs": [
    {
     "name": "stdout",
     "output_type": "stream",
     "text": [
      "2016-01-01\n",
      "2016-01-02\n",
      "2016-01-03\n",
      "2016-01-04\n",
      "2016-01-05\n",
      "2016-01-06\n",
      "2016-01-07\n",
      "2016-01-08\n",
      "2016-01-09\n",
      "2016-01-10\n",
      "2016-01-11\n",
      "2016-01-12\n",
      "2016-01-13\n",
      "2016-01-14\n",
      "2016-01-15\n",
      "2016-01-16\n",
      "2016-01-17\n",
      "2016-01-18\n",
      "2016-01-19\n",
      "2016-01-20\n",
      "2016-01-21\n",
      "2016-01-22\n",
      "2016-01-23\n",
      "2016-01-24\n",
      "2016-01-25\n",
      "2016-01-26\n",
      "2016-01-27\n",
      "2016-01-28\n",
      "2016-01-29\n",
      "2016-01-30\n",
      "2016-01-31\n",
      "2016-02-01\n",
      "2016-02-02\n",
      "2016-02-03\n",
      "2016-02-04\n",
      "2016-02-05\n",
      "2016-02-06\n",
      "2016-02-07\n",
      "2016-02-08\n",
      "2016-02-09\n",
      "2016-02-10\n",
      "2016-02-11\n",
      "2016-02-12\n",
      "2016-02-13\n",
      "2016-02-14\n",
      "2016-02-15\n",
      "2016-02-16\n",
      "2016-02-17\n",
      "2016-02-18\n",
      "2016-02-19\n",
      "2016-02-20\n",
      "2016-02-21\n",
      "2016-02-22\n",
      "2016-02-23\n",
      "2016-02-24\n",
      "2016-02-25\n",
      "2016-02-26\n",
      "2016-02-27\n",
      "2016-02-28\n",
      "2016-02-29\n",
      "2016-03-01\n",
      "2016-03-02\n",
      "2016-03-03\n",
      "2016-03-04\n",
      "2016-03-05\n",
      "2016-03-06\n",
      "2016-03-07\n",
      "2016-03-08\n",
      "2016-03-09\n",
      "2016-03-10\n",
      "2016-03-11\n",
      "2016-03-12\n",
      "2016-03-13\n",
      "2016-03-14\n",
      "2016-03-15\n",
      "2016-03-16\n",
      "2016-03-17\n",
      "2016-03-18\n",
      "2016-03-19\n",
      "2016-03-20\n",
      "2016-03-21\n",
      "2016-03-22\n",
      "2016-03-23\n",
      "2016-03-24\n",
      "2016-03-25\n",
      "2016-03-26\n",
      "2016-03-27\n",
      "2016-03-28\n",
      "2016-03-29\n",
      "2016-03-30\n",
      "2016-03-31\n",
      "2016-04-01\n",
      "2016-04-02\n",
      "2016-04-03\n",
      "2016-04-04\n",
      "2016-04-05\n",
      "2016-04-06\n",
      "2016-04-07\n",
      "2016-04-08\n",
      "2016-04-09\n",
      "2016-04-10\n",
      "2016-04-11\n",
      "2016-04-12\n",
      "2016-04-13\n",
      "2016-04-14\n",
      "2016-04-15\n",
      "2016-04-16\n",
      "2016-04-17\n",
      "2016-04-18\n",
      "2016-04-19\n",
      "2016-04-20\n",
      "2016-04-21\n",
      "2016-04-22\n",
      "2016-04-23\n",
      "2016-04-24\n",
      "2016-04-25\n",
      "2016-04-26\n",
      "2016-04-27\n",
      "2016-04-28\n",
      "2016-04-29\n",
      "2016-04-30\n",
      "2016-05-01\n",
      "2016-05-02\n",
      "2016-05-03\n",
      "2016-05-04\n",
      "2016-05-05\n",
      "2016-05-06\n",
      "2016-05-07\n",
      "2016-05-08\n",
      "2016-05-09\n",
      "2016-05-10\n",
      "2016-05-11\n",
      "2016-05-12\n",
      "2016-05-13\n",
      "2016-05-14\n",
      "2016-05-15\n",
      "2016-05-16\n",
      "2016-05-17\n",
      "2016-05-18\n",
      "2016-05-19\n",
      "2016-05-20\n",
      "2016-05-21\n",
      "2016-05-22\n",
      "2016-05-23\n",
      "2016-05-24\n",
      "2016-05-25\n",
      "2016-05-26\n",
      "2016-05-27\n",
      "2016-05-28\n",
      "2016-05-29\n",
      "2016-05-30\n",
      "2016-05-31\n",
      "2016-06-01\n",
      "2016-06-02\n",
      "2016-06-03\n",
      "2016-06-04\n",
      "2016-06-05\n",
      "2016-06-06\n",
      "2016-06-07\n",
      "2016-06-08\n",
      "2016-06-09\n",
      "2016-06-10\n",
      "2016-06-11\n",
      "2016-06-12\n",
      "2016-06-13\n",
      "2016-06-14\n",
      "2016-06-15\n",
      "2016-06-16\n",
      "2016-06-17\n",
      "2016-06-18\n",
      "2016-06-19\n",
      "2016-06-20\n",
      "2016-06-21\n",
      "2016-06-22\n",
      "2016-06-23\n",
      "2016-06-24\n",
      "2016-06-25\n",
      "2016-06-26\n",
      "2016-06-27\n",
      "2016-06-28\n",
      "2016-06-29\n",
      "2016-06-30\n",
      "2016-07-01\n",
      "2016-07-02\n",
      "2016-07-03\n",
      "2016-07-04\n",
      "2016-07-05\n",
      "2016-07-06\n",
      "2016-07-07\n",
      "2016-07-08\n",
      "2016-07-09\n",
      "2016-07-10\n",
      "2016-07-11\n",
      "2016-07-12\n",
      "2016-07-13\n",
      "2016-07-14\n",
      "2016-07-15\n",
      "2016-07-16\n",
      "2016-07-17\n",
      "2016-07-18\n",
      "2016-07-19\n",
      "2016-07-20\n",
      "2016-07-21\n",
      "2016-07-22\n",
      "2016-07-23\n",
      "2016-07-24\n",
      "2016-07-25\n",
      "2016-07-26\n",
      "2016-07-27\n",
      "2016-07-28\n",
      "2016-07-29\n",
      "2016-07-30\n",
      "2016-07-31\n",
      "2016-08-01\n",
      "2016-08-02\n",
      "2016-08-03\n",
      "2016-08-04\n",
      "2016-08-05\n",
      "2016-08-06\n",
      "2016-08-07\n",
      "2016-08-08\n",
      "2016-08-09\n",
      "2016-08-10\n",
      "2016-08-11\n",
      "2016-08-12\n",
      "2016-08-13\n",
      "2016-08-14\n",
      "2016-08-15\n",
      "2016-08-16\n",
      "2016-08-17\n",
      "2016-08-18\n",
      "2016-08-19\n",
      "2016-08-20\n",
      "2016-08-21\n",
      "2016-08-22\n",
      "2016-08-23\n",
      "2016-08-24\n",
      "2016-08-25\n",
      "2016-08-26\n",
      "2016-08-27\n",
      "2016-08-28\n",
      "2016-08-29\n",
      "2016-08-30\n",
      "2016-08-31\n",
      "2016-09-01\n",
      "2016-09-02\n",
      "2016-09-03\n",
      "2016-09-04\n",
      "2016-09-05\n",
      "2016-09-06\n",
      "2016-09-07\n",
      "2016-09-08\n",
      "2016-09-09\n",
      "2016-09-10\n",
      "2016-09-11\n",
      "2016-09-12\n",
      "2016-09-13\n",
      "2016-09-14\n",
      "2016-09-15\n",
      "2016-09-16\n",
      "2016-09-17\n",
      "2016-09-18\n",
      "2016-09-19\n",
      "2016-09-20\n",
      "2016-09-21\n",
      "2016-09-22\n",
      "2016-09-23\n",
      "2016-09-24\n",
      "2016-09-25\n",
      "2016-09-26\n",
      "2016-09-27\n",
      "2016-09-28\n",
      "2016-09-29\n",
      "2016-09-30\n",
      "2016-10-01\n",
      "2016-10-02\n",
      "2016-10-03\n",
      "2016-10-04\n",
      "2016-10-05\n",
      "2016-10-06\n",
      "2016-10-07\n",
      "2016-10-08\n",
      "2016-10-09\n",
      "2016-10-10\n",
      "2016-10-11\n",
      "2016-10-12\n",
      "2016-10-13\n",
      "2016-10-14\n",
      "2016-10-15\n",
      "2016-10-16\n",
      "2016-10-17\n",
      "2016-10-18\n",
      "2016-10-19\n",
      "2016-10-20\n",
      "2016-10-21\n",
      "2016-10-22\n",
      "2016-10-23\n",
      "2016-10-24\n",
      "2016-10-25\n",
      "2016-10-26\n",
      "2016-10-27\n",
      "2016-10-28\n",
      "2016-10-29\n",
      "2016-10-30\n",
      "2016-10-31\n",
      "2016-11-01\n",
      "2016-11-02\n",
      "2016-11-03\n",
      "2016-11-04\n",
      "2016-11-05\n",
      "2016-11-06\n",
      "2016-11-07\n",
      "2016-11-08\n",
      "2016-11-09\n",
      "2016-11-10\n",
      "2016-11-11\n",
      "2016-11-12\n",
      "2016-11-13\n",
      "2016-11-14\n",
      "2016-11-15\n",
      "2016-11-16\n",
      "2016-11-17\n",
      "2016-11-18\n",
      "2016-11-19\n",
      "2016-11-20\n",
      "2016-11-21\n",
      "2016-11-22\n",
      "2016-11-23\n",
      "2016-11-24\n",
      "2016-11-25\n",
      "2016-11-26\n",
      "2016-11-27\n",
      "2016-11-28\n",
      "2016-11-29\n",
      "2016-11-30\n",
      "2016-12-01\n",
      "2016-12-02\n",
      "2016-12-03\n",
      "2016-12-04\n",
      "2016-12-05\n",
      "2016-12-06\n",
      "2016-12-07\n",
      "2016-12-08\n",
      "2016-12-09\n",
      "2016-12-10\n",
      "2016-12-11\n",
      "2016-12-12\n",
      "2016-12-13\n",
      "2016-12-14\n",
      "2016-12-15\n",
      "2016-12-16\n",
      "2016-12-17\n",
      "2016-12-18\n",
      "2016-12-19\n",
      "2016-12-20\n",
      "2016-12-21\n",
      "2016-12-22\n",
      "2016-12-23\n",
      "2016-12-24\n",
      "2016-12-25\n",
      "2016-12-26\n",
      "2016-12-27\n",
      "2016-12-28\n",
      "2016-12-29\n",
      "2016-12-30\n",
      "2016-12-31\n"
     ]
    }
   ],
   "source": [
    "p2=pd.Period('2016-01-01',freq='D')#default\n",
    "for days in range(366):#since leap year\n",
    "    print(p2)\n",
    "    p2+=1\n",
    "\n"
   ]
  },
  {
   "cell_type": "code",
   "execution_count": 179,
   "metadata": {},
   "outputs": [
    {
     "name": "stdout",
     "output_type": "stream",
     "text": [
      "2016-01-01 00:00:00\n",
      "2016-01-01 00:59:59.999999999\n"
     ]
    },
    {
     "data": {
      "text/plain": [
       "0"
      ]
     },
     "execution_count": 179,
     "metadata": {},
     "output_type": "execute_result"
    }
   ],
   "source": [
    "#hours time freq\n",
    "p_hours=pd.Period('2016-01-01 00:00:00',freq='H')#12:00AM\n",
    "print(p_hours.start_time)\n",
    "print(p_hours.end_time)\n",
    "#since hour is the frequency time duration is one hour\n",
    "\n"
   ]
  },
  {
   "cell_type": "code",
   "execution_count": 181,
   "metadata": {},
   "outputs": [
    {
     "name": "stdout",
     "output_type": "stream",
     "text": [
      "adding +1 day :  2017-02-28   2017-03-01\n",
      "Adding +1 month : 2017-12   2018-01\n",
      "adding +1 year :  2017   2018\n",
      "adding +1 hour :  2016-01-01 00:00   2016-01-01 01:00\n"
     ]
    }
   ],
   "source": [
    "#arithmetic operations on Periods(+,- only)\n",
    "p_day=pd.Period('2017-02-28')\n",
    "p_month=pd.Period('2017-12')\n",
    "p_year=pd.Period('2017')\n",
    "print('adding +1 day : ',p_day,' ',p_day+1)\n",
    "print('Adding +1 month :',p_month,' ',p_month+1)\n",
    "print('adding +1 year : ',p_year,' ',p_year+1)\n",
    "print('adding +1 hour : ',p_hours,' ',p_hours+1)"
   ]
  },
  {
   "cell_type": "code",
   "execution_count": 182,
   "metadata": {},
   "outputs": [
    {
     "name": "stdout",
     "output_type": "stream",
     "text": [
      "Quaterly periods of year 2017 from january - December\n",
      "\n",
      "\n",
      "First quaterly period :  2017-01-01 00:00:00\n",
      "End of First quaterly period :  2017-03-31 23:59:59.999999999\n",
      "\n",
      "\n",
      "Second quaterly period:  2017-04-01 00:00:00\n",
      "End of Second quaterly period :  2017-06-30 23:59:59.999999999\n",
      "\n",
      "\n",
      "Third quaterly period :  2017-07-01 00:00:00\n",
      "End of Third quaterly period :  2017-09-30 23:59:59.999999999\n",
      "\n",
      "\n",
      "Fourth quaterly period :  2017-10-01 00:00:00\n",
      "End of Fourth quaterly period :  2017-12-31 23:59:59.999999999\n"
     ]
    }
   ],
   "source": [
    "#for quaterly periods we pass 'yearq' inside Period function\n",
    "print('Quaterly periods of year 2017 from january - December')\n",
    "print('\\n\\nFirst quaterly period : ',pd.Period('2017q1').start_time)\n",
    "print('End of First quaterly period : ',pd.Period('2017q1').end_time)\n",
    "\n",
    "print('\\n\\nSecond quaterly period: ',pd.Period('2017q2').start_time)\n",
    "print('End of Second quaterly period : ',pd.Period('2017q2').end_time)\n",
    "\n",
    "print('\\n\\nThird quaterly period : ',pd.Period('2017q3').start_time)\n",
    "print('End of Third quaterly period : ',pd.Period('2017q3').end_time)\n",
    "\n",
    "print('\\n\\nFourth quaterly period : ',pd.Period('2017q4').start_time)\n",
    "print('End of Fourth quaterly period : ',pd.Period('2017q4').end_time)"
   ]
  },
  {
   "cell_type": "code",
   "execution_count": 203,
   "metadata": {},
   "outputs": [
    {
     "name": "stdout",
     "output_type": "stream",
     "text": [
      "2016-02-01 00:00:00\n",
      "2016-04-30 23:59:59.999999999\n"
     ]
    }
   ],
   "source": [
    "#although company quaterly period freq starts from jan - dec\n",
    "#some companies like walmart has quaterly period freq starts from feb - jan\n",
    "#so the following code shows how to create our own quaterly data \n",
    "\n",
    "#lets take example of feb - jan\n",
    "p_quat=pd.Period('2017Q1',freq='Q-jan')#which means the quater period is ending in jan\n",
    "print(p_quat.start_time)\n",
    "print(p_quat.end_time)"
   ]
  },
  {
   "cell_type": "code",
   "execution_count": 186,
   "metadata": {},
   "outputs": [
    {
     "data": {
      "text/plain": [
       "Period('2016-02', 'M')"
      ]
     },
     "execution_count": 186,
     "metadata": {},
     "output_type": "execute_result"
    }
   ],
   "source": [
    "#asfreq() is used to convert from freq to another\n",
    "p_quat.asfreq('D',how='start')"
   ]
  },
  {
   "cell_type": "code",
   "execution_count": 188,
   "metadata": {},
   "outputs": [
    {
     "data": {
      "text/plain": [
       "Period('2016-04-30', 'D')"
      ]
     },
     "execution_count": 188,
     "metadata": {},
     "output_type": "execute_result"
    }
   ],
   "source": [
    "p_quat.asfreq('D',how='end')"
   ]
  },
  {
   "cell_type": "code",
   "execution_count": null,
   "metadata": {},
   "outputs": [],
   "source": []
  }
 ],
 "metadata": {
  "kernelspec": {
   "display_name": "Python 3",
   "language": "python",
   "name": "python3"
  },
  "language_info": {
   "codemirror_mode": {
    "name": "ipython",
    "version": 3
   },
   "file_extension": ".py",
   "mimetype": "text/x-python",
   "name": "python",
   "nbconvert_exporter": "python",
   "pygments_lexer": "ipython3",
   "version": "3.7.4"
  }
 },
 "nbformat": 4,
 "nbformat_minor": 2
}
